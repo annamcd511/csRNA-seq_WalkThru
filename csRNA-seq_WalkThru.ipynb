{
 "cells": [
  {
   "cell_type": "code",
   "execution_count": 1,
   "id": "f4b05294",
   "metadata": {
    "hide_input": true
   },
   "outputs": [],
   "source": [
    "import ipywidgets as widgets\n",
    "from IPython.display import display"
   ]
  },
  {
   "cell_type": "code",
   "execution_count": 6,
   "id": "678f472b",
   "metadata": {},
   "outputs": [],
   "source": [
    "# Example 1: Slider widget\n",
    "slider = widgets.FloatSlider(value=5, min=0, max=10, step=0.1, description='Value:')\n",
    "\n",
    "# Example 2: Text box widget\n",
    "text = widgets.Text(value='Hello!', description='Text:')\n",
    "\n",
    "# Example 3: Button widget\n",
    "button = widgets.Button(description='Click me!')\n"
   ]
  },
  {
   "cell_type": "code",
   "execution_count": 7,
   "id": "7495344f",
   "metadata": {},
   "outputs": [],
   "source": [
    "def on_slider_change(change):\n",
    "    print(f\"New value: {change['new']}\")\n",
    "\n",
    "def on_button_click(b):\n",
    "    print('Button clicked!')\n"
   ]
  },
  {
   "cell_type": "code",
   "execution_count": 8,
   "id": "8fb2b346",
   "metadata": {},
   "outputs": [
    {
     "data": {
      "application/vnd.jupyter.widget-view+json": {
       "model_id": "caea14cf59924a7690fc21822a9b371a",
       "version_major": 2,
       "version_minor": 0
      },
      "text/plain": [
       "FloatSlider(value=5.0, description='Value:', max=10.0)"
      ]
     },
     "metadata": {},
     "output_type": "display_data"
    },
    {
     "data": {
      "application/vnd.jupyter.widget-view+json": {
       "model_id": "006267520e7e40e4a5846e150625a500",
       "version_major": 2,
       "version_minor": 0
      },
      "text/plain": [
       "Text(value='Hello!', description='Text:')"
      ]
     },
     "metadata": {},
     "output_type": "display_data"
    },
    {
     "data": {
      "application/vnd.jupyter.widget-view+json": {
       "model_id": "98a3718cdf4e4eb489bdeeee8708b87d",
       "version_major": 2,
       "version_minor": 0
      },
      "text/plain": [
       "Button(description='Click me!', style=ButtonStyle())"
      ]
     },
     "metadata": {},
     "output_type": "display_data"
    }
   ],
   "source": [
    "display(slider)\n",
    "display(text)\n",
    "display(button)"
   ]
  }
 ],
 "metadata": {
  "celltoolbar": "Edit Metadata",
  "kernelspec": {
   "display_name": "Python 3 (ipykernel)",
   "language": "python",
   "name": "python3"
  },
  "language_info": {
   "codemirror_mode": {
    "name": "ipython",
    "version": 3
   },
   "file_extension": ".py",
   "mimetype": "text/x-python",
   "name": "python",
   "nbconvert_exporter": "python",
   "pygments_lexer": "ipython3",
   "version": "3.11.3"
  }
 },
 "nbformat": 4,
 "nbformat_minor": 5
}
